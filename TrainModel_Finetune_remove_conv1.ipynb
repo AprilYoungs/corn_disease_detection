{
 "cells": [
  {
   "cell_type": "markdown",
   "metadata": {},
   "source": [
    "## 移除最后conv最后一层网络\n"
   ]
  },
  {
   "cell_type": "code",
   "execution_count": 1,
   "metadata": {},
   "outputs": [],
   "source": [
    "import sys\n",
    "import os\n",
    "import time\n",
    "import numpy as np\n",
    "import pandas as pd\n",
    "import matplotlib.pyplot as plt\n",
    "import matplotlib.image as mping\n",
    "import torch\n",
    "import torch.nn as nn\n",
    "import torchvision.models as models\n",
    "import torch.utils.data as data\n",
    "from torchvision import transforms\n",
    "\n",
    "from data_loader import get_loader\n",
    "from data_loader import get_encoder_loader\n",
    "from model import *\n",
    "\n",
    "%matplotlib inline\n",
    "%config InlineBackend.figure_format = 'retina'"
   ]
  },
  {
   "cell_type": "markdown",
   "metadata": {},
   "source": [
    "### set high parameters"
   ]
  },
  {
   "cell_type": "code",
   "execution_count": 4,
   "metadata": {},
   "outputs": [],
   "source": [
    "batch_size = 256\n",
    "num_epochs = 200\n",
    "extract_size = 1024\n",
    "class_size = 61\n",
    "\n",
    "\n",
    "# 图片格式转化\n",
    "transform_train = transforms.Compose([\n",
    "    transforms.Resize([224,224]),\n",
    "#     transforms.RandomCrop(224),\n",
    "    transforms.RandomHorizontalFlip(),\n",
    "    transforms.ToTensor(),\n",
    "    transforms.Normalize(mean=[0.485, 0.456, 0.406],\n",
    "                         std=[0.229, 0.224, 0.225])\n",
    "])\n",
    "transform_vaild = transforms.Compose([\n",
    "    transforms.Resize([224,224]),\n",
    "    transforms.ToTensor(),\n",
    "    transforms.Normalize(mean=[0.485, 0.456, 0.406],\n",
    "                         std=[0.229, 0.224, 0.225])\n",
    "])"
   ]
  },
  {
   "cell_type": "markdown",
   "metadata": {},
   "source": [
    "### load encoded datas"
   ]
  },
  {
   "cell_type": "code",
   "execution_count": 3,
   "metadata": {},
   "outputs": [
    {
     "name": "stdout",
     "output_type": "stream",
     "text": [
      "encoding 32738/32739->100.00%, spent_time:40:38.01"
     ]
    }
   ],
   "source": [
    "device = torch.device(\"cuda\" if torch.cuda.is_available() else \"cpu\")\n",
    "\n",
    "# exract the images to embedding tensor\n",
    "# remove the last conv layer\n",
    "encoder = EncoderCut()\n",
    "encoder = encoder.to(device)\n",
    "\n",
    "data_loader = get_encoder_loader(transform_train, encoder, device, mode='train', batch_size=batch_size)\n",
    "data_loader.dataset.save_to(\"./bottle_neck/resnet152_train_remove_last_conv.h\")\n",
    "# data_loader = get_encoder_loader(transform_train, encoder, device, mode='train', batch_size=batch_size, file='./bottle_neck/resnet152_train_no_crop.h')"
   ]
  },
  {
   "cell_type": "markdown",
   "metadata": {},
   "source": [
    "### init model"
   ]
  },
  {
   "cell_type": "markdown",
   "metadata": {},
   "source": [
    "使用两层网络,结果过拟合,训练准确率很高,验证结果比较差,使用再试"
   ]
  },
  {
   "cell_type": "code",
   "execution_count": 5,
   "metadata": {},
   "outputs": [],
   "source": [
    "# set the total number of training steps per epoch\n",
    "total_step = int(len(data_loader.dataset)/batch_size)\n",
    "\n",
    "classify_model = FinalClassify(extract_size, class_size)\n",
    "classify_model = classify_model.to(device)\n",
    "\n",
    "criterion = nn.CrossEntropyLoss().cuda() if torch.cuda.is_available() else nn.CrossEntropyLoss()\n",
    "\n",
    "# with RMSprop to slow the desent gradient progress\n",
    "optimizer = torch.optim.Adam(classify_model.parameters(), lr=0.001)"
   ]
  },
  {
   "cell_type": "markdown",
   "metadata": {},
   "source": [
    "### Load the best trained model,yet!"
   ]
  },
  {
   "cell_type": "code",
   "execution_count": 21,
   "metadata": {},
   "outputs": [],
   "source": [
    "classify_model.load_state_dict(torch.load('./models/class_single_model_last.pkl'))"
   ]
  },
  {
   "cell_type": "markdown",
   "metadata": {},
   "source": [
    "### time to train model"
   ]
  },
  {
   "cell_type": "code",
   "execution_count": 9,
   "metadata": {},
   "outputs": [],
   "source": [
    "optimizer = torch.optim.SGD(classify_model.parameters(), lr=0.0001)"
   ]
  },
  {
   "cell_type": "code",
   "execution_count": 10,
   "metadata": {
    "scrolled": false
   },
   "outputs": [
    {
     "name": "stdout",
     "output_type": "stream",
     "text": [
      "Epoch [101/100], Step [120/127], Loss: 1.0080, Accuracy: 73.83%, Best_acc: 78.12%            \n",
      " Epoch 101, spent time:5.82s\n",
      "Epoch [102/100], Step [120/127], Loss: 0.9286, Accuracy: 78.91%, Best_acc: 78.91%            \n",
      " Epoch 102, spent time:5.85s\n",
      "Epoch [103/100], Step [120/127], Loss: 0.9704, Accuracy: 78.52%, Best_acc: 78.91%            \n",
      " Epoch 103, spent time:5.77s\n",
      "Epoch [104/100], Step [120/127], Loss: 1.0021, Accuracy: 73.83%, Best_acc: 83.59%            \n",
      " Epoch 104, spent time:5.82s\n",
      "Epoch [105/100], Step [120/127], Loss: 1.0476, Accuracy: 75.78%, Best_acc: 83.59%            \n",
      " Epoch 105, spent time:5.85s\n",
      "Epoch [106/100], Step [120/127], Loss: 0.9959, Accuracy: 78.52%, Best_acc: 83.59%            \n",
      " Epoch 106, spent time:5.82s\n",
      "Epoch [107/100], Step [120/127], Loss: 1.0700, Accuracy: 69.53%, Best_acc: 83.59%            \n",
      " Epoch 107, spent time:5.83s\n",
      "Epoch [108/100], Step [120/127], Loss: 1.0042, Accuracy: 73.44%, Best_acc: 83.59%            \n",
      " Epoch 108, spent time:5.86s\n",
      "Epoch [109/100], Step [120/127], Loss: 1.0520, Accuracy: 73.83%, Best_acc: 83.59%            \n",
      " Epoch 109, spent time:5.85s\n",
      "Epoch [110/100], Step [120/127], Loss: 1.0232, Accuracy: 72.66%, Best_acc: 83.59%            \n",
      " Epoch 110, spent time:5.79s\n",
      "Epoch [111/100], Step [120/127], Loss: 0.9178, Accuracy: 79.30%, Best_acc: 83.59%            \n",
      " Epoch 111, spent time:5.76s\n",
      "Epoch [112/100], Step [120/127], Loss: 0.9712, Accuracy: 75.00%, Best_acc: 83.59%            \n",
      " Epoch 112, spent time:5.77s\n",
      "Epoch [113/100], Step [120/127], Loss: 0.9918, Accuracy: 76.95%, Best_acc: 83.59%            \n",
      " Epoch 113, spent time:5.85s\n",
      "Epoch [114/100], Step [120/127], Loss: 0.9579, Accuracy: 78.52%, Best_acc: 83.59%            \n",
      " Epoch 114, spent time:5.77s\n",
      "Epoch [115/100], Step [120/127], Loss: 0.9352, Accuracy: 76.17%, Best_acc: 83.59%            \n",
      " Epoch 115, spent time:5.82s\n",
      "Epoch [116/100], Step [120/127], Loss: 0.9404, Accuracy: 77.73%, Best_acc: 83.59%            \n",
      " Epoch 116, spent time:5.82s\n",
      "Epoch [117/100], Step [120/127], Loss: 1.0554, Accuracy: 70.31%, Best_acc: 83.59%            \n",
      " Epoch 117, spent time:5.80s\n",
      "Epoch [118/100], Step [120/127], Loss: 0.9802, Accuracy: 78.12%, Best_acc: 83.59%            \n",
      " Epoch 118, spent time:5.66s\n",
      "Epoch [119/100], Step [120/127], Loss: 1.0655, Accuracy: 71.09%, Best_acc: 83.59%            \n",
      " Epoch 119, spent time:5.86s\n",
      "Epoch [120/100], Step [120/127], Loss: 1.0547, Accuracy: 74.61%, Best_acc: 83.59%            \n",
      " Epoch 120, spent time:5.80s\n",
      "Epoch [121/100], Step [120/127], Loss: 0.9895, Accuracy: 76.17%, Best_acc: 83.59%            \n",
      " Epoch 121, spent time:5.89s\n",
      "Epoch [122/100], Step [120/127], Loss: 1.0416, Accuracy: 72.66%, Best_acc: 83.59%            \n",
      " Epoch 122, spent time:5.74s\n",
      "Epoch [123/100], Step [120/127], Loss: 0.9725, Accuracy: 78.52%, Best_acc: 83.59%            \n",
      " Epoch 123, spent time:5.79s\n",
      "Epoch [124/100], Step [120/127], Loss: 0.8953, Accuracy: 78.91%, Best_acc: 83.59%            \n",
      " Epoch 124, spent time:5.72s\n",
      "Epoch [125/100], Step [120/127], Loss: 0.9793, Accuracy: 70.70%, Best_acc: 83.59%            \n",
      " Epoch 125, spent time:5.85s\n",
      "Epoch [126/100], Step [120/127], Loss: 0.8864, Accuracy: 80.08%, Best_acc: 83.59%            \n",
      " Epoch 126, spent time:5.81s\n",
      "Epoch [127/100], Step [120/127], Loss: 0.9864, Accuracy: 76.95%, Best_acc: 83.59%            \n",
      " Epoch 127, spent time:5.78s\n",
      "Epoch [128/100], Step [120/127], Loss: 1.0570, Accuracy: 74.61%, Best_acc: 83.59%            \n",
      " Epoch 128, spent time:5.78s\n",
      "Epoch [129/100], Step [120/127], Loss: 0.9938, Accuracy: 76.56%, Best_acc: 83.59%            \n",
      " Epoch 129, spent time:5.72s\n",
      "Epoch [130/100], Step [120/127], Loss: 0.9246, Accuracy: 76.95%, Best_acc: 83.59%            \n",
      " Epoch 130, spent time:5.75s\n",
      "Epoch [131/100], Step [120/127], Loss: 1.0827, Accuracy: 74.61%, Best_acc: 83.59%            \n",
      " Epoch 131, spent time:5.82s\n",
      "Epoch [132/100], Step [120/127], Loss: 1.0457, Accuracy: 71.88%, Best_acc: 83.59%            \n",
      " Epoch 132, spent time:5.85s\n",
      "Epoch [133/100], Step [120/127], Loss: 0.9387, Accuracy: 80.86%, Best_acc: 83.59%            \n",
      " Epoch 133, spent time:5.81s\n",
      "Epoch [134/100], Step [120/127], Loss: 0.9919, Accuracy: 72.27%, Best_acc: 83.59%            \n",
      " Epoch 134, spent time:5.90s\n",
      "Epoch [135/100], Step [120/127], Loss: 0.9215, Accuracy: 78.52%, Best_acc: 83.59%            \n",
      " Epoch 135, spent time:5.86s\n",
      "Epoch [136/100], Step [120/127], Loss: 0.9733, Accuracy: 72.66%, Best_acc: 83.59%            \n",
      " Epoch 136, spent time:5.77s\n",
      "Epoch [137/100], Step [120/127], Loss: 1.0128, Accuracy: 76.56%, Best_acc: 83.59%            \n",
      " Epoch 137, spent time:5.81s\n",
      "Epoch [138/100], Step [120/127], Loss: 0.9832, Accuracy: 75.78%, Best_acc: 83.59%            \n",
      " Epoch 138, spent time:5.84s\n",
      "Epoch [139/100], Step [120/127], Loss: 0.9538, Accuracy: 80.08%, Best_acc: 83.59%            \n",
      " Epoch 139, spent time:5.81s\n",
      "Epoch [140/100], Step [120/127], Loss: 1.0128, Accuracy: 75.00%, Best_acc: 83.59%            \n",
      " Epoch 140, spent time:5.87s\n",
      "Epoch [141/100], Step [120/127], Loss: 1.0579, Accuracy: 72.66%, Best_acc: 83.59%            \n",
      " Epoch 141, spent time:5.83s\n",
      "Epoch [142/100], Step [120/127], Loss: 0.9249, Accuracy: 79.69%, Best_acc: 83.59%            \n",
      " Epoch 142, spent time:5.80s\n",
      "Epoch [143/100], Step [120/127], Loss: 0.9736, Accuracy: 77.73%, Best_acc: 83.59%            \n",
      " Epoch 143, spent time:5.82s\n",
      "Epoch [144/100], Step [120/127], Loss: 0.9946, Accuracy: 76.95%, Best_acc: 83.59%            \n",
      " Epoch 144, spent time:5.75s\n",
      "Epoch [145/100], Step [120/127], Loss: 1.0117, Accuracy: 78.12%, Best_acc: 83.59%            \n",
      " Epoch 145, spent time:5.76s\n",
      "Epoch [146/100], Step [120/127], Loss: 0.9886, Accuracy: 77.34%, Best_acc: 83.59%            \n",
      " Epoch 146, spent time:5.77s\n",
      "Epoch [147/100], Step [120/127], Loss: 0.9762, Accuracy: 76.56%, Best_acc: 83.59%            \n",
      " Epoch 147, spent time:5.74s\n",
      "Epoch [148/100], Step [120/127], Loss: 0.9751, Accuracy: 74.22%, Best_acc: 83.59%            \n",
      " Epoch 148, spent time:5.86s\n",
      "Epoch [149/100], Step [120/127], Loss: 1.0245, Accuracy: 75.39%, Best_acc: 83.59%            \n",
      " Epoch 149, spent time:5.82s\n",
      "Epoch [150/100], Step [120/127], Loss: 1.0011, Accuracy: 74.61%, Best_acc: 83.59%            \n",
      " Epoch 150, spent time:5.80s\n",
      "Epoch [151/100], Step [120/127], Loss: 1.0319, Accuracy: 76.95%, Best_acc: 83.59%            \n",
      " Epoch 151, spent time:5.82s\n",
      "Epoch [152/100], Step [120/127], Loss: 1.0662, Accuracy: 72.27%, Best_acc: 83.59%            \n",
      " Epoch 152, spent time:5.77s\n",
      "Epoch [153/100], Step [120/127], Loss: 1.0512, Accuracy: 72.66%, Best_acc: 83.59%            \n",
      " Epoch 153, spent time:5.75s\n",
      "Epoch [154/100], Step [120/127], Loss: 0.9147, Accuracy: 82.03%, Best_acc: 83.59%            \n",
      " Epoch 154, spent time:5.86s\n",
      "Epoch [155/100], Step [120/127], Loss: 0.9391, Accuracy: 75.78%, Best_acc: 83.59%            \n",
      " Epoch 155, spent time:5.85s\n",
      "Epoch [156/100], Step [120/127], Loss: 0.9448, Accuracy: 78.52%, Best_acc: 83.59%            \n",
      " Epoch 156, spent time:5.82s\n",
      "Epoch [157/100], Step [120/127], Loss: 1.0674, Accuracy: 72.66%, Best_acc: 83.59%            \n",
      " Epoch 157, spent time:5.73s\n",
      "Epoch [158/100], Step [120/127], Loss: 1.0777, Accuracy: 72.66%, Best_acc: 83.59%            \n",
      " Epoch 158, spent time:5.85s\n",
      "Epoch [159/100], Step [120/127], Loss: 0.9894, Accuracy: 76.56%, Best_acc: 83.59%            \n",
      " Epoch 159, spent time:5.85s\n",
      "Epoch [160/100], Step [120/127], Loss: 0.9363, Accuracy: 76.56%, Best_acc: 83.59%            \n",
      " Epoch 160, spent time:5.81s\n",
      "Epoch [161/100], Step [120/127], Loss: 0.9864, Accuracy: 76.17%, Best_acc: 83.59%            \n",
      " Epoch 161, spent time:5.87s\n",
      "Epoch [162/100], Step [120/127], Loss: 0.9018, Accuracy: 80.08%, Best_acc: 83.59%            \n",
      " Epoch 162, spent time:5.85s\n",
      "Epoch [163/100], Step [120/127], Loss: 1.0347, Accuracy: 73.83%, Best_acc: 83.59%            \n",
      " Epoch 163, spent time:5.82s\n",
      "Epoch [164/100], Step [120/127], Loss: 0.9673, Accuracy: 76.17%, Best_acc: 83.59%            \n",
      " Epoch 164, spent time:5.81s\n",
      "Epoch [165/100], Step [120/127], Loss: 0.9104, Accuracy: 79.69%, Best_acc: 83.59%            \n",
      " Epoch 165, spent time:5.88s\n",
      "Epoch [166/100], Step [120/127], Loss: 1.0694, Accuracy: 72.66%, Best_acc: 83.59%            \n",
      " Epoch 166, spent time:5.81s\n"
     ]
    },
    {
     "name": "stdout",
     "output_type": "stream",
     "text": [
      "Epoch [167/100], Step [120/127], Loss: 1.0286, Accuracy: 74.61%, Best_acc: 83.59%            \n",
      " Epoch 167, spent time:5.85s\n",
      "Epoch [168/100], Step [120/127], Loss: 0.9817, Accuracy: 74.22%, Best_acc: 83.59%            \n",
      " Epoch 168, spent time:5.83s\n",
      "Epoch [169/100], Step [120/127], Loss: 0.9718, Accuracy: 74.22%, Best_acc: 83.59%            \n",
      " Epoch 169, spent time:5.76s\n",
      "Epoch [170/100], Step [120/127], Loss: 0.9926, Accuracy: 75.78%, Best_acc: 83.59%            \n",
      " Epoch 170, spent time:5.84s\n",
      "Epoch [171/100], Step [120/127], Loss: 0.9966, Accuracy: 76.17%, Best_acc: 83.59%            \n",
      " Epoch 171, spent time:5.85s\n",
      "Epoch [172/100], Step [120/127], Loss: 0.8985, Accuracy: 76.56%, Best_acc: 83.59%            \n",
      " Epoch 172, spent time:5.80s\n",
      "Epoch [173/100], Step [120/127], Loss: 0.9745, Accuracy: 74.22%, Best_acc: 83.59%            \n",
      " Epoch 173, spent time:5.79s\n",
      "Epoch [174/100], Step [120/127], Loss: 0.9901, Accuracy: 78.12%, Best_acc: 83.59%            \n",
      " Epoch 174, spent time:5.80s\n",
      "Epoch [175/100], Step [120/127], Loss: 1.0495, Accuracy: 73.44%, Best_acc: 83.59%            \n",
      " Epoch 175, spent time:5.84s\n",
      "Epoch [176/100], Step [120/127], Loss: 0.9941, Accuracy: 75.78%, Best_acc: 83.59%            \n",
      " Epoch 176, spent time:5.78s\n",
      "Epoch [177/100], Step [120/127], Loss: 0.9175, Accuracy: 78.12%, Best_acc: 83.59%            \n",
      " Epoch 177, spent time:5.92s\n",
      "Epoch [178/100], Step [120/127], Loss: 1.0408, Accuracy: 74.61%, Best_acc: 83.59%            \n",
      " Epoch 178, spent time:5.84s\n",
      "Epoch [179/100], Step [120/127], Loss: 0.9124, Accuracy: 80.08%, Best_acc: 83.59%            \n",
      " Epoch 179, spent time:5.86s\n",
      "Epoch [180/100], Step [120/127], Loss: 0.9220, Accuracy: 78.12%, Best_acc: 83.59%            \n",
      " Epoch 180, spent time:5.82s\n",
      "Epoch [181/100], Step [120/127], Loss: 0.9531, Accuracy: 76.95%, Best_acc: 83.59%            \n",
      " Epoch 181, spent time:5.86s\n",
      "Epoch [182/100], Step [120/127], Loss: 0.9721, Accuracy: 76.56%, Best_acc: 83.59%            \n",
      " Epoch 182, spent time:5.72s\n",
      "Epoch [183/100], Step [120/127], Loss: 1.0714, Accuracy: 74.22%, Best_acc: 83.59%            \n",
      " Epoch 183, spent time:5.85s\n",
      "Epoch [184/100], Step [120/127], Loss: 1.0182, Accuracy: 72.27%, Best_acc: 83.59%            \n",
      " Epoch 184, spent time:5.85s\n",
      "Epoch [185/100], Step [120/127], Loss: 0.9347, Accuracy: 77.73%, Best_acc: 83.59%            \n",
      " Epoch 185, spent time:5.86s\n",
      "Epoch [186/100], Step [120/127], Loss: 0.9835, Accuracy: 77.34%, Best_acc: 83.59%            \n",
      " Epoch 186, spent time:5.82s\n",
      "Epoch [187/100], Step [120/127], Loss: 0.9717, Accuracy: 78.91%, Best_acc: 83.59%            \n",
      " Epoch 187, spent time:5.80s\n",
      "Epoch [188/100], Step [120/127], Loss: 0.9329, Accuracy: 77.34%, Best_acc: 83.59%            \n",
      " Epoch 188, spent time:5.80s\n",
      "Epoch [189/100], Step [120/127], Loss: 0.9570, Accuracy: 76.95%, Best_acc: 83.59%            \n",
      " Epoch 189, spent time:5.76s\n",
      "Epoch [190/100], Step [120/127], Loss: 0.9610, Accuracy: 76.95%, Best_acc: 83.59%            \n",
      " Epoch 190, spent time:5.95s\n",
      "Epoch [191/100], Step [120/127], Loss: 1.0482, Accuracy: 69.14%, Best_acc: 83.59%            \n",
      " Epoch 191, spent time:5.76s\n",
      "Epoch [192/100], Step [120/127], Loss: 0.9883, Accuracy: 76.95%, Best_acc: 83.59%            \n",
      " Epoch 192, spent time:5.83s\n",
      "Epoch [193/100], Step [120/127], Loss: 1.0784, Accuracy: 73.05%, Best_acc: 83.59%            \n",
      " Epoch 193, spent time:5.83s\n",
      "Epoch [194/100], Step [120/127], Loss: 0.9855, Accuracy: 78.52%, Best_acc: 83.59%            \n",
      " Epoch 194, spent time:5.87s\n",
      "Epoch [195/100], Step [120/127], Loss: 1.0011, Accuracy: 75.78%, Best_acc: 83.59%            \n",
      " Epoch 195, spent time:5.79s\n",
      "Epoch [196/100], Step [120/127], Loss: 1.0184, Accuracy: 72.27%, Best_acc: 83.59%            \n",
      " Epoch 196, spent time:5.91s\n",
      "Epoch [197/100], Step [120/127], Loss: 0.9576, Accuracy: 79.69%, Best_acc: 83.59%            \n",
      " Epoch 197, spent time:5.71s\n",
      "Epoch [198/100], Step [120/127], Loss: 1.0272, Accuracy: 72.66%, Best_acc: 83.59%            \n",
      " Epoch 198, spent time:5.95s\n",
      "Epoch [199/100], Step [120/127], Loss: 1.0769, Accuracy: 74.22%, Best_acc: 83.59%            \n",
      " Epoch 199, spent time:5.89s\n",
      "Epoch [200/100], Step [120/127], Loss: 0.9288, Accuracy: 77.34%, Best_acc: 83.59%            \n",
      " Epoch 200, spent time:5.89s\n"
     ]
    }
   ],
   "source": [
    "classify_model = classify_model.train()\n",
    "best_acc = 0\n",
    "\n",
    "for epoch in range(201, num_epochs+201):\n",
    "    start = time.time()\n",
    "    for i_step in range(1, total_step+1):\n",
    "        \n",
    "        # Ramdomly get samples\n",
    "        indices = data_loader.dataset.get_train_indices()\n",
    "        new_sampler = data.sampler.SubsetRandomSampler(indices=indices)\n",
    "        data_loader.batch_sampler.sampler = new_sampler\n",
    "        \n",
    "        embeds, targets = next(iter(data_loader))\n",
    "        \n",
    "        embeds = embeds.squeeze(1)\n",
    "        targets = targets.type(torch.LongTensor).to(device)\n",
    "        \n",
    "        classify_model.zero_grad()\n",
    "        \n",
    "        outputs = classify_model(embeds)\n",
    "        \n",
    "        loss = criterion(outputs, targets.view(-1))\n",
    "        \n",
    "        loss.backward()\n",
    "        \n",
    "        optimizer.step()\n",
    "        \n",
    "        if i_step%20 == 0:\n",
    "            # calculate the status\n",
    "            predict_result = outputs.argmax(1)\n",
    "            accuracy = torch.sum(predict_result == targets).item() / batch_size * 100\n",
    "            best_acc = accuracy if accuracy > best_acc else best_acc\n",
    "            \n",
    "            stats = 'Epoch [%d/%d], Step [%d/%d], Loss: %.4f, Accuracy: %.2f%%, Best_acc: %.2f%%\\\n",
    "            ' % (epoch, num_epochs, i_step, total_step, loss.item(), accuracy, best_acc)\n",
    "            print('\\r' + stats, end='')\n",
    "            sys.stdout.flush()\n",
    "    print('\\n Epoch {}, spent time:{:.2f}s'.format(epoch, time.time()-start))       \n",
    "    if epoch%50 == 0:\n",
    "        torch.save(classify_model.state_dict(), os.path.join('./models', 'class_single_rm1layer_%d.pkl' % epoch))\n",
    "torch.save(classify_model.state_dict(), os.path.join('./models', 'class_single_rm2layer_last.pkl'))"
   ]
  },
  {
   "cell_type": "markdown",
   "metadata": {},
   "source": [
    "### How good is the model?"
   ]
  },
  {
   "cell_type": "code",
   "execution_count": 7,
   "metadata": {},
   "outputs": [
    {
     "name": "stdout",
     "output_type": "stream",
     "text": [
      "encoding 4981/4982->99.98%, spent_time:5:14.77"
     ]
    }
   ],
   "source": [
    "# valid_data_loader = get_encoder_loader(transform_vaild, encoder, device, mode='valid', batch_size=batch_size)\n",
    "# valid_data_loader.dataset.save_to(\"./bottle_neck/resnet152_valid_rm1layer.h\")\n",
    "valid_data_loader = get_encoder_loader(transform_vaild, encoder, device, mode='valid', batch_size=batch_size, file=\"./bottle_neck/resnet152_valid_rm1layer.h\")"
   ]
  },
  {
   "cell_type": "code",
   "execution_count": 29,
   "metadata": {},
   "outputs": [],
   "source": [
    "classify_model.load_state_dict(torch.load('./models/class_single_rm1layer_last.pkl'))"
   ]
  },
  {
   "cell_type": "code",
   "execution_count": 11,
   "metadata": {},
   "outputs": [
    {
     "name": "stdout",
     "output_type": "stream",
     "text": [
      "The final accuracy is 70.39%.\n"
     ]
    }
   ],
   "source": [
    "classify_model = classify_model.eval()\n",
    "predict = []\n",
    "for embed, _ in valid_data_loader.dataset:\n",
    "    p = classify_model(embed).argmax().item()\n",
    "    predict.append(p)\n",
    "    \n",
    "df_refer = valid_data_loader.dataset.refer\n",
    "df_refer[\"predict\"] = predict\n",
    "df_refer['correct'] = df_refer.predict == df_refer.disease_class\n",
    "accuracy = (df_refer.correct == True).sum()/len(df_refer)\n",
    "print('The final accuracy is %.2f%%.' % (accuracy*100))"
   ]
  },
  {
   "cell_type": "code",
   "execution_count": null,
   "metadata": {},
   "outputs": [],
   "source": []
  }
 ],
 "metadata": {
  "kernelspec": {
   "display_name": "Python 3",
   "language": "python",
   "name": "python3"
  },
  "language_info": {
   "codemirror_mode": {
    "name": "ipython",
    "version": 3
   },
   "file_extension": ".py",
   "mimetype": "text/x-python",
   "name": "python",
   "nbconvert_exporter": "python",
   "pygments_lexer": "ipython3",
   "version": "3.5.3"
  }
 },
 "nbformat": 4,
 "nbformat_minor": 2
}
