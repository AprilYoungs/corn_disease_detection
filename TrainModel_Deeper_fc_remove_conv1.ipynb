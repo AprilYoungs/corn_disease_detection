{
 "cells": [
  {
   "cell_type": "markdown",
   "metadata": {},
   "source": [
    "## 移除最后conv最后一层网络\n",
    "\n",
    "使用三個fc\n"
   ]
  },
  {
   "cell_type": "code",
   "execution_count": 2,
   "metadata": {},
   "outputs": [],
   "source": [
    "import sys\n",
    "import os\n",
    "import time\n",
    "import numpy as np\n",
    "import pandas as pd\n",
    "import matplotlib.pyplot as plt\n",
    "import matplotlib.image as mping\n",
    "import torch\n",
    "import torch.nn as nn\n",
    "import torchvision.models as models\n",
    "import torch.utils.data as data\n",
    "from torchvision import transforms\n",
    "\n",
    "from data_loader import get_loader\n",
    "from data_loader import get_encoder_loader\n",
    "from model import *\n",
    "\n",
    "%matplotlib inline\n",
    "%config InlineBackend.figure_format = 'retina'"
   ]
  },
  {
   "cell_type": "code",
   "execution_count": 21,
   "metadata": {},
   "outputs": [],
   "source": [
    "class DeeperFCClassify(nn.Module):\n",
    "    def __init__(self, in_features, class_size):\n",
    "        super(DeeperFCClassify, self).__init__()\n",
    "        self.fc1 = nn.Linear(in_features, in_features//2)\n",
    "        self.drop = nn.Dropout(0.3)\n",
    "        self.fc2 = nn.Linear(in_features//2, in_features//4)\n",
    "        self.fc3 = nn.Linear(in_features//4, class_size)\n",
    "    \n",
    "    def forward(self, features):\n",
    "        y = self.fc1(features)\n",
    "        y = self.drop(y)\n",
    "        y = self.fc2(y)\n",
    "        y = self.fc3(y)\n",
    "        return y"
   ]
  },
  {
   "cell_type": "code",
   "execution_count": 4,
   "metadata": {},
   "outputs": [],
   "source": [
    "def valid_class_acc(classify_model, valid_data_loader):\n",
    "    classify_model = classify_model.eval()\n",
    "    predict = []\n",
    "    total = len(valid_data_loader.dataset)\n",
    "    for idx in range(total):\n",
    "        embed, _ = valid_data_loader.dataset[idx]\n",
    "        p = classify_model(embed).argmax().item()\n",
    "        predict.append(p)\n",
    "        print('\\r %d / %d' % (idx, total), end='')\n",
    "        sys.stdout.flush()\n",
    "    \n",
    "    df_refer = valid_data_loader.dataset.refer\n",
    "    df_refer[\"predict\"] = predict\n",
    "    df_refer['correct'] = df_refer.predict == df_refer.disease_class\n",
    "    accuracy = (df_refer.correct == True).sum()/len(df_refer)\n",
    "    return accuracy*100"
   ]
  },
  {
   "cell_type": "markdown",
   "metadata": {},
   "source": [
    "### set high parameters"
   ]
  },
  {
   "cell_type": "code",
   "execution_count": 5,
   "metadata": {},
   "outputs": [],
   "source": [
    "batch_size = 256\n",
    "num_epochs = 100\n",
    "extract_size = 1024\n",
    "class_size = 61\n",
    "\n",
    "\n",
    "# 图片格式转化\n",
    "transform_train = transforms.Compose([\n",
    "    transforms.Resize([224,224]),\n",
    "#     transforms.RandomCrop(224),\n",
    "    transforms.RandomHorizontalFlip(),\n",
    "    transforms.ToTensor(),\n",
    "    transforms.Normalize(mean=[0.485, 0.456, 0.406],\n",
    "                         std=[0.229, 0.224, 0.225])\n",
    "])\n",
    "transform_vaild = transforms.Compose([\n",
    "    transforms.Resize([224,224]),\n",
    "    transforms.ToTensor(),\n",
    "    transforms.Normalize(mean=[0.485, 0.456, 0.406],\n",
    "                         std=[0.229, 0.224, 0.225])\n",
    "])"
   ]
  },
  {
   "cell_type": "markdown",
   "metadata": {},
   "source": [
    "### load encoded datas"
   ]
  },
  {
   "cell_type": "code",
   "execution_count": 6,
   "metadata": {},
   "outputs": [],
   "source": [
    "device = torch.device(\"cuda\" if torch.cuda.is_available() else \"cpu\")\n",
    "\n",
    "# exract the images to embedding tensor\n",
    "# remove the last conv layer\n",
    "encoder = EncoderCut()\n",
    "encoder = encoder.to(device)\n",
    "\n",
    "# data_loader = get_encoder_loader(transform_train, encoder, device, mode='train', batch_size=batch_size)\n",
    "# data_loader.dataset.save_to(\"./bottle_neck/resnet152_train_remove_last_conv.h\")\n",
    "data_loader = get_encoder_loader(transform_train, encoder, device, mode='train', batch_size=batch_size, file='./bottle_neck/resnet152_train_remove_last_conv.h')\n",
    "\n",
    "# valid_data_loader = get_encoder_loader(transform_vaild, encoder, device, mode='valid', batch_size=batch_size)\n",
    "# valid_data_loader.dataset.save_to(\"./bottle_neck/resnet152_valid_rm1layer.h\")\n",
    "valid_data_loader = get_encoder_loader(transform_vaild, encoder, device, mode='valid', batch_size=batch_size, file=\"./bottle_neck/resnet152_valid_rm1layer.h\")"
   ]
  },
  {
   "cell_type": "markdown",
   "metadata": {},
   "source": [
    "### init model"
   ]
  },
  {
   "cell_type": "markdown",
   "metadata": {},
   "source": [
    "使用两层网络,结果过拟合,训练准确率很高,验证结果比较差,使用再试"
   ]
  },
  {
   "cell_type": "code",
   "execution_count": 22,
   "metadata": {},
   "outputs": [],
   "source": [
    "# set the total number of training steps per epoch\n",
    "total_step = int(len(data_loader.dataset)/batch_size)\n",
    "\n",
    "classify_model = DeeperFCClassify(extract_size, class_size)\n",
    "classify_model = classify_model.to(device)\n",
    "\n",
    "criterion = nn.CrossEntropyLoss().cuda() if torch.cuda.is_available() else nn.CrossEntropyLoss()\n",
    "\n",
    "# with RMSprop to slow the desent gradient progress\n",
    "optimizer = torch.optim.Adam(classify_model.parameters(), lr=0.001)"
   ]
  },
  {
   "cell_type": "markdown",
   "metadata": {},
   "source": [
    "### Load the best trained model,yet!"
   ]
  },
  {
   "cell_type": "code",
   "execution_count": 8,
   "metadata": {},
   "outputs": [],
   "source": [
    "classify_model.load_state_dict(torch.load('./models/class_multify_rm1layer_last.pkl'))"
   ]
  },
  {
   "cell_type": "markdown",
   "metadata": {},
   "source": [
    "### time to train model"
   ]
  },
  {
   "cell_type": "code",
   "execution_count": 24,
   "metadata": {},
   "outputs": [],
   "source": [
    "optimizer = torch.optim.SGD(classify_model.parameters(), lr=0.0001)"
   ]
  },
  {
   "cell_type": "code",
   "execution_count": null,
   "metadata": {
    "scrolled": false
   },
   "outputs": [
    {
     "name": "stdout",
     "output_type": "stream",
     "text": [
      "Epoch [1/100], Step [120/127], Loss: 0.6023, Accuracy: 73.44%, Best_acc: 78.12%            \n",
      " 4981 / 4982\n",
      " Epoch 1, spent time:14.85s, valid: 72.00%\n",
      "Epoch [2/100], Step [120/127], Loss: 0.6836, Accuracy: 75.78%, Best_acc: 79.30%            \n",
      " 4981 / 4982\n",
      " Epoch 2, spent time:14.72s, valid: 72.62%\n",
      "Epoch [3/100], Step [120/127], Loss: 0.5698, Accuracy: 78.91%, Best_acc: 79.30%            \n",
      " 4981 / 4982\n",
      " Epoch 3, spent time:14.74s, valid: 73.12%\n",
      "Epoch [4/100], Step [120/127], Loss: 0.5251, Accuracy: 78.91%, Best_acc: 79.30%            \n",
      " 4981 / 4982\n",
      " Epoch 4, spent time:14.66s, valid: 73.40%\n",
      "Epoch [5/100], Step [120/127], Loss: 0.5051, Accuracy: 79.30%, Best_acc: 79.30%            \n",
      " 4981 / 4982\n",
      " Epoch 5, spent time:14.79s, valid: 73.52%\n",
      "Epoch [6/100], Step [120/127], Loss: 0.6029, Accuracy: 77.73%, Best_acc: 81.25%            \n",
      " 4981 / 4982\n",
      " Epoch 6, spent time:14.80s, valid: 73.65%\n",
      "Epoch [7/100], Step [120/127], Loss: 0.5939, Accuracy: 76.56%, Best_acc: 82.03%            \n",
      " 4981 / 4982\n",
      " Epoch 7, spent time:14.61s, valid: 73.50%\n",
      "Epoch [8/100], Step [120/127], Loss: 0.5557, Accuracy: 78.91%, Best_acc: 82.03%            \n",
      " 4981 / 4982\n",
      " Epoch 8, spent time:14.68s, valid: 73.60%\n",
      "Epoch [9/100], Step [120/127], Loss: 0.6359, Accuracy: 75.00%, Best_acc: 82.03%            \n",
      " 4981 / 4982\n",
      " Epoch 9, spent time:14.70s, valid: 73.50%\n",
      "Epoch [10/100], Step [120/127], Loss: 0.5773, Accuracy: 76.56%, Best_acc: 82.03%            \n",
      " 4981 / 4982\n",
      " Epoch 10, spent time:14.98s, valid: 73.67%\n",
      "Epoch [11/100], Step [120/127], Loss: 0.5155, Accuracy: 82.81%, Best_acc: 82.81%            \n",
      " 4981 / 4982\n",
      " Epoch 11, spent time:14.87s, valid: 73.63%\n",
      "Epoch [12/100], Step [120/127], Loss: 0.5963, Accuracy: 74.61%, Best_acc: 82.81%            \n",
      " 4981 / 4982\n",
      " Epoch 12, spent time:14.68s, valid: 73.69%\n",
      "Epoch [13/100], Step [120/127], Loss: 0.5500, Accuracy: 78.12%, Best_acc: 82.81%            \n",
      " 4981 / 4982\n",
      " Epoch 13, spent time:14.76s, valid: 73.63%\n",
      "Epoch [14/100], Step [120/127], Loss: 0.5864, Accuracy: 76.17%, Best_acc: 82.81%            \n",
      " 4981 / 4982\n",
      " Epoch 14, spent time:14.63s, valid: 73.50%\n",
      "Epoch [15/100], Step [120/127], Loss: 0.5709, Accuracy: 79.30%, Best_acc: 82.81%            \n",
      " 4981 / 4982\n",
      " Epoch 15, spent time:14.92s, valid: 73.54%\n",
      "Epoch [16/100], Step [120/127], Loss: 0.5441, Accuracy: 76.95%, Best_acc: 82.81%            \n",
      " 4981 / 4982\n",
      " Epoch 16, spent time:15.03s, valid: 73.65%\n",
      "Epoch [17/100], Step [120/127], Loss: 0.5145, Accuracy: 81.64%, Best_acc: 82.81%            \n",
      " 4981 / 4982\n",
      " Epoch 17, spent time:15.21s, valid: 73.67%\n",
      "Epoch [18/100], Step [40/127], Loss: 0.5086, Accuracy: 78.52%, Best_acc: 82.81%            "
     ]
    }
   ],
   "source": [
    "best_acc = 0\n",
    "\n",
    "for epoch in range(1, num_epochs+1):\n",
    "    start = time.time()\n",
    "    classify_model = classify_model.train()\n",
    "    for i_step in range(1, total_step+1):\n",
    "        \n",
    "        # Ramdomly get samples\n",
    "        indices = data_loader.dataset.get_train_indices()\n",
    "        new_sampler = data.sampler.SubsetRandomSampler(indices=indices)\n",
    "        data_loader.batch_sampler.sampler = new_sampler\n",
    "        \n",
    "        embeds, targets = next(iter(data_loader))\n",
    "        \n",
    "        embeds = embeds.squeeze(1)\n",
    "        targets = targets.type(torch.LongTensor).to(device)\n",
    "        \n",
    "        classify_model.zero_grad()\n",
    "        \n",
    "        outputs = classify_model(embeds)\n",
    "        \n",
    "        loss = criterion(outputs, targets.view(-1))\n",
    "        \n",
    "        loss.backward()\n",
    "        \n",
    "        optimizer.step()\n",
    "        \n",
    "        if i_step%20 == 0:\n",
    "            # calculate the status\n",
    "            predict_result = outputs.argmax(1)\n",
    "            accuracy = torch.sum(predict_result == targets).item() / batch_size * 100\n",
    "            best_acc = accuracy if accuracy > best_acc else best_acc\n",
    "            \n",
    "            stats = 'Epoch [%d/%d], Step [%d/%d], Loss: %.4f, Accuracy: %.2f%%, Best_acc: %.2f%%\\\n",
    "            ' % (epoch, num_epochs, i_step, total_step, loss.item(), accuracy, best_acc)\n",
    "            print('\\r' + stats, end='')\n",
    "            sys.stdout.flush()\n",
    "    print('')        \n",
    "    valid_acc = valid_class_acc(classify_model, valid_data_loader)\n",
    "    print('\\n Epoch {}, spent time:{:.2f}s, valid: {:.2f}%'.format(epoch, time.time()-start, valid_acc))       \n",
    "    if epoch%1 == 0:\n",
    "        torch.save(classify_model.state_dict(), os.path.join('./models', 'class_deeper_rm1layer_%d.pkl' % epoch))\n",
    "# torch.save(classify_model.state_dict(), os.path.join('./models', 'class_multify_rm1layer_last.pkl'))"
   ]
  },
  {
   "cell_type": "markdown",
   "metadata": {},
   "source": [
    "### How good is the model?"
   ]
  },
  {
   "cell_type": "code",
   "execution_count": 6,
   "metadata": {},
   "outputs": [],
   "source": [
    "# valid_data_loader = get_encoder_loader(transform_vaild, encoder, device, mode='valid', batch_size=batch_size)\n",
    "# valid_data_loader.dataset.save_to(\"./bottle_neck/resnet152_valid_rm1layer.h\")\n",
    "valid_data_loader = get_encoder_loader(transform_vaild, encoder, device, mode='valid', batch_size=batch_size, file=\"./bottle_neck/resnet152_valid_rm1layer.h\")"
   ]
  },
  {
   "cell_type": "code",
   "execution_count": 21,
   "metadata": {},
   "outputs": [],
   "source": [
    "classify_model.load_state_dict(torch.load('./models/class_multify_rm1layer_100.pkl'))"
   ]
  },
  {
   "cell_type": "code",
   "execution_count": 22,
   "metadata": {},
   "outputs": [
    {
     "name": "stdout",
     "output_type": "stream",
     "text": [
      "The final accuracy is 77.56%.\n"
     ]
    }
   ],
   "source": [
    "classify_model = classify_model.eval()\n",
    "predict = []\n",
    "for embed, _ in valid_data_loader.dataset:\n",
    "    p = classify_model(embed).argmax().item()\n",
    "    predict.append(p)\n",
    "    \n",
    "df_refer = valid_data_loader.dataset.refer\n",
    "df_refer[\"predict\"] = predict\n",
    "df_refer['correct'] = df_refer.predict == df_refer.disease_class\n",
    "accuracy = (df_refer.correct == True).sum()/len(df_refer)\n",
    "print('The final accuracy is %.2f%%.' % (accuracy*100))"
   ]
  },
  {
   "cell_type": "markdown",
   "metadata": {},
   "source": [
    "## With 100 epoch the result is the best,yet."
   ]
  },
  {
   "cell_type": "code",
   "execution_count": 23,
   "metadata": {},
   "outputs": [],
   "source": [
    "!mv ./models/class_multify_rm1layer_100.pkl ./models/class_multify_rm1layer_good.pkl"
   ]
  },
  {
   "cell_type": "code",
   "execution_count": null,
   "metadata": {},
   "outputs": [],
   "source": []
  }
 ],
 "metadata": {
  "kernelspec": {
   "display_name": "Python 3",
   "language": "python",
   "name": "python3"
  },
  "language_info": {
   "codemirror_mode": {
    "name": "ipython",
    "version": 3
   },
   "file_extension": ".py",
   "mimetype": "text/x-python",
   "name": "python",
   "nbconvert_exporter": "python",
   "pygments_lexer": "ipython3",
   "version": "3.6.5"
  }
 },
 "nbformat": 4,
 "nbformat_minor": 2
}
