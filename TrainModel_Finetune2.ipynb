{
 "cells": [
  {
   "cell_type": "code",
   "execution_count": 1,
   "metadata": {},
   "outputs": [],
   "source": [
    "import sys\n",
    "import os\n",
    "import time\n",
    "import numpy as np\n",
    "import pandas as pd\n",
    "import matplotlib.pyplot as plt\n",
    "import matplotlib.image as mping\n",
    "import torch\n",
    "import torch.nn as nn\n",
    "import torchvision.models as models\n",
    "import torch.utils.data as data\n",
    "from torchvision import transforms\n",
    "\n",
    "from data_loader import get_loader\n",
    "from data_loader import get_encoder_loader\n",
    "from model import *\n",
    "\n",
    "%matplotlib inline\n",
    "%config InlineBackend.figure_format = 'retina'"
   ]
  },
  {
   "cell_type": "markdown",
   "metadata": {},
   "source": [
    "### set high parameters"
   ]
  },
  {
   "cell_type": "code",
   "execution_count": 2,
   "metadata": {},
   "outputs": [],
   "source": [
    "batch_size = 64\n",
    "num_epochs = 100\n",
    "extract_size = 2048\n",
    "class_size = 61\n",
    "\n",
    "\n",
    "# 图片格式转化\n",
    "transform_train = transforms.Compose([\n",
    "    transforms.Resize(256),\n",
    "    transforms.RandomCrop(224),\n",
    "    transforms.RandomHorizontalFlip(),\n",
    "    transforms.ToTensor(),\n",
    "    transforms.Normalize(mean=[0.485, 0.456, 0.406],\n",
    "                         std=[0.229, 0.224, 0.225])\n",
    "])\n",
    "transform_vaild = transforms.Compose([\n",
    "    transforms.Resize([224,224]),\n",
    "    transforms.ToTensor(),\n",
    "    transforms.Normalize(mean=[0.485, 0.456, 0.406],\n",
    "                         std=[0.229, 0.224, 0.225])\n",
    "])"
   ]
  },
  {
   "cell_type": "markdown",
   "metadata": {},
   "source": [
    "### load encoded datas"
   ]
  },
  {
   "cell_type": "code",
   "execution_count": 3,
   "metadata": {},
   "outputs": [],
   "source": [
    "device = torch.device(\"cuda\" if torch.cuda.is_available() else \"cpu\")\n",
    "\n",
    "# exract the images to embedding tensor\n",
    "encoder = Encoder()\n",
    "encoder = encoder.to(device)\n",
    "\n",
    "# data_loader = get_encoder_loader(transform_train, encoder, device, mode='train', batch_size=batch_size)\n",
    "# data_loader.dataset.save_to(\"./bottle_neck/resnet152_train.h\")\n",
    "data_loader = get_encoder_loader(transform_train, encoder, device, mode='train', batch_size=batch_size, file='./bottle_neck/resnet152_train.h')"
   ]
  },
  {
   "cell_type": "markdown",
   "metadata": {},
   "source": [
    "### init model"
   ]
  },
  {
   "cell_type": "markdown",
   "metadata": {},
   "source": [
    "使用两层网络,结果过拟合,训练准确率很高,验证结果比较差,使用再试"
   ]
  },
  {
   "cell_type": "code",
   "execution_count": 8,
   "metadata": {},
   "outputs": [],
   "source": [
    "# set the total number of training steps per epoch\n",
    "total_step = int(len(data_loader.dataset)/batch_size)\n",
    "\n",
    "classify_model = FinalClassify(extract_size, class_size)\n",
    "classify_model = classify_model.to(device)\n",
    "\n",
    "criterion = nn.CrossEntropyLoss().cuda() if torch.cuda.is_available() else nn.CrossEntropyLoss()\n",
    "\n",
    "# with RMSprop to slow the desent gradient progress\n",
    "optimizer = torch.optim.Adam(classify_model.parameters(), lr=0.001)"
   ]
  },
  {
   "cell_type": "markdown",
   "metadata": {},
   "source": [
    "### Load the best trained model,yet!"
   ]
  },
  {
   "cell_type": "code",
   "execution_count": 9,
   "metadata": {},
   "outputs": [],
   "source": [
    "classify_model.load_state_dict(torch.load('./models/class_single_model_last.pkl'))"
   ]
  },
  {
   "cell_type": "markdown",
   "metadata": {},
   "source": [
    "### time to train model"
   ]
  },
  {
   "cell_type": "code",
   "execution_count": 12,
   "metadata": {},
   "outputs": [],
   "source": [
    "optimizer = torch.optim.SGD(classify_model.parameters(), lr=0.001)"
   ]
  },
  {
   "cell_type": "code",
   "execution_count": 13,
   "metadata": {
    "scrolled": false
   },
   "outputs": [
    {
     "name": "stdout",
     "output_type": "stream",
     "text": [
      "Epoch [401/100], Step [500/511], Loss: 0.6172, Accuracy: 84.38%, Best_acc: 90.62%            \n",
      " Epoch 401, spent time:6.37s\n",
      "Epoch [402/100], Step [500/511], Loss: 0.8393, Accuracy: 84.38%, Best_acc: 93.75%            \n",
      " Epoch 402, spent time:6.53s\n",
      "Epoch [403/100], Step [500/511], Loss: 0.5647, Accuracy: 90.62%, Best_acc: 93.75%            \n",
      " Epoch 403, spent time:6.44s\n",
      "Epoch [404/100], Step [500/511], Loss: 0.7312, Accuracy: 85.94%, Best_acc: 93.75%            \n",
      " Epoch 404, spent time:6.44s\n",
      "Epoch [405/100], Step [500/511], Loss: 0.7550, Accuracy: 84.38%, Best_acc: 93.75%            \n",
      " Epoch 405, spent time:6.40s\n",
      "Epoch [406/100], Step [500/511], Loss: 0.6186, Accuracy: 89.06%, Best_acc: 93.75%            \n",
      " Epoch 406, spent time:6.43s\n",
      "Epoch [407/100], Step [500/511], Loss: 0.7193, Accuracy: 84.38%, Best_acc: 93.75%            \n",
      " Epoch 407, spent time:6.40s\n",
      "Epoch [408/100], Step [500/511], Loss: 0.7707, Accuracy: 85.94%, Best_acc: 95.31%            \n",
      " Epoch 408, spent time:6.43s\n",
      "Epoch [409/100], Step [500/511], Loss: 0.6122, Accuracy: 87.50%, Best_acc: 95.31%            \n",
      " Epoch 409, spent time:6.46s\n",
      "Epoch [410/100], Step [500/511], Loss: 0.7022, Accuracy: 90.62%, Best_acc: 95.31%            \n",
      " Epoch 410, spent time:6.43s\n",
      "Epoch [411/100], Step [500/511], Loss: 0.6489, Accuracy: 85.94%, Best_acc: 95.31%            \n",
      " Epoch 411, spent time:6.44s\n",
      "Epoch [412/100], Step [500/511], Loss: 0.8182, Accuracy: 84.38%, Best_acc: 95.31%            \n",
      " Epoch 412, spent time:6.44s\n",
      "Epoch [413/100], Step [500/511], Loss: 0.6887, Accuracy: 81.25%, Best_acc: 95.31%            \n",
      " Epoch 413, spent time:6.41s\n",
      "Epoch [414/100], Step [500/511], Loss: 0.8828, Accuracy: 84.38%, Best_acc: 95.31%            \n",
      " Epoch 414, spent time:6.34s\n",
      "Epoch [415/100], Step [500/511], Loss: 1.0714, Accuracy: 79.69%, Best_acc: 95.31%            \n",
      " Epoch 415, spent time:6.47s\n",
      "Epoch [416/100], Step [500/511], Loss: 0.6124, Accuracy: 90.62%, Best_acc: 96.88%            \n",
      " Epoch 416, spent time:6.41s\n",
      "Epoch [417/100], Step [500/511], Loss: 0.7065, Accuracy: 89.06%, Best_acc: 96.88%            \n",
      " Epoch 417, spent time:6.51s\n",
      "Epoch [418/100], Step [500/511], Loss: 0.6852, Accuracy: 92.19%, Best_acc: 96.88%            \n",
      " Epoch 418, spent time:6.43s\n",
      "Epoch [419/100], Step [500/511], Loss: 0.5877, Accuracy: 87.50%, Best_acc: 96.88%            \n",
      " Epoch 419, spent time:6.35s\n",
      "Epoch [420/100], Step [500/511], Loss: 0.6329, Accuracy: 79.69%, Best_acc: 96.88%            \n",
      " Epoch 420, spent time:6.50s\n",
      "Epoch [421/100], Step [500/511], Loss: 0.7088, Accuracy: 85.94%, Best_acc: 96.88%            \n",
      " Epoch 421, spent time:6.40s\n",
      "Epoch [422/100], Step [500/511], Loss: 0.8436, Accuracy: 78.12%, Best_acc: 96.88%            \n",
      " Epoch 422, spent time:6.42s\n",
      "Epoch [423/100], Step [500/511], Loss: 0.5561, Accuracy: 85.94%, Best_acc: 96.88%            \n",
      " Epoch 423, spent time:6.48s\n",
      "Epoch [424/100], Step [500/511], Loss: 0.7234, Accuracy: 81.25%, Best_acc: 96.88%            \n",
      " Epoch 424, spent time:6.50s\n",
      "Epoch [425/100], Step [500/511], Loss: 0.6473, Accuracy: 85.94%, Best_acc: 96.88%            \n",
      " Epoch 425, spent time:6.43s\n",
      "Epoch [426/100], Step [500/511], Loss: 0.6367, Accuracy: 79.69%, Best_acc: 96.88%            \n",
      " Epoch 426, spent time:6.46s\n",
      "Epoch [427/100], Step [500/511], Loss: 0.6056, Accuracy: 85.94%, Best_acc: 96.88%            \n",
      " Epoch 427, spent time:6.45s\n",
      "Epoch [428/100], Step [500/511], Loss: 0.8522, Accuracy: 79.69%, Best_acc: 96.88%            \n",
      " Epoch 428, spent time:6.44s\n",
      "Epoch [429/100], Step [500/511], Loss: 0.7544, Accuracy: 81.25%, Best_acc: 96.88%            \n",
      " Epoch 429, spent time:6.50s\n",
      "Epoch [430/100], Step [500/511], Loss: 0.5735, Accuracy: 89.06%, Best_acc: 96.88%            \n",
      " Epoch 430, spent time:6.50s\n",
      "Epoch [431/100], Step [500/511], Loss: 1.0265, Accuracy: 73.44%, Best_acc: 96.88%            \n",
      " Epoch 431, spent time:6.37s\n",
      "Epoch [432/100], Step [500/511], Loss: 0.6803, Accuracy: 90.62%, Best_acc: 96.88%            \n",
      " Epoch 432, spent time:6.46s\n",
      "Epoch [433/100], Step [500/511], Loss: 0.6497, Accuracy: 87.50%, Best_acc: 96.88%            \n",
      " Epoch 433, spent time:6.40s\n",
      "Epoch [434/100], Step [500/511], Loss: 0.7849, Accuracy: 79.69%, Best_acc: 96.88%            \n",
      " Epoch 434, spent time:6.42s\n",
      "Epoch [435/100], Step [500/511], Loss: 0.7961, Accuracy: 82.81%, Best_acc: 96.88%            \n",
      " Epoch 435, spent time:6.39s\n",
      "Epoch [436/100], Step [500/511], Loss: 0.7384, Accuracy: 89.06%, Best_acc: 96.88%            \n",
      " Epoch 436, spent time:6.44s\n",
      "Epoch [437/100], Step [500/511], Loss: 0.8028, Accuracy: 84.38%, Best_acc: 96.88%            \n",
      " Epoch 437, spent time:6.45s\n",
      "Epoch [438/100], Step [500/511], Loss: 0.9529, Accuracy: 75.00%, Best_acc: 96.88%            \n",
      " Epoch 438, spent time:6.40s\n",
      "Epoch [439/100], Step [500/511], Loss: 0.5380, Accuracy: 89.06%, Best_acc: 96.88%            \n",
      " Epoch 439, spent time:6.42s\n",
      "Epoch [440/100], Step [500/511], Loss: 0.6825, Accuracy: 84.38%, Best_acc: 96.88%            \n",
      " Epoch 440, spent time:6.48s\n",
      "Epoch [441/100], Step [500/511], Loss: 0.6759, Accuracy: 82.81%, Best_acc: 96.88%            \n",
      " Epoch 441, spent time:6.48s\n",
      "Epoch [442/100], Step [500/511], Loss: 0.6139, Accuracy: 90.62%, Best_acc: 96.88%            \n",
      " Epoch 442, spent time:6.36s\n",
      "Epoch [443/100], Step [500/511], Loss: 0.7217, Accuracy: 81.25%, Best_acc: 96.88%            \n",
      " Epoch 443, spent time:6.52s\n",
      "Epoch [444/100], Step [500/511], Loss: 0.8317, Accuracy: 76.56%, Best_acc: 96.88%            \n",
      " Epoch 444, spent time:6.43s\n",
      "Epoch [445/100], Step [500/511], Loss: 0.5307, Accuracy: 92.19%, Best_acc: 96.88%            \n",
      " Epoch 445, spent time:6.41s\n",
      "Epoch [446/100], Step [500/511], Loss: 0.7732, Accuracy: 79.69%, Best_acc: 96.88%            \n",
      " Epoch 446, spent time:6.40s\n",
      "Epoch [447/100], Step [500/511], Loss: 0.6702, Accuracy: 87.50%, Best_acc: 96.88%            \n",
      " Epoch 447, spent time:6.46s\n",
      "Epoch [448/100], Step [500/511], Loss: 0.6866, Accuracy: 84.38%, Best_acc: 96.88%            \n",
      " Epoch 448, spent time:6.42s\n",
      "Epoch [449/100], Step [500/511], Loss: 0.6568, Accuracy: 87.50%, Best_acc: 96.88%            \n",
      " Epoch 449, spent time:6.40s\n",
      "Epoch [450/100], Step [500/511], Loss: 0.8295, Accuracy: 71.88%, Best_acc: 96.88%            \n",
      " Epoch 450, spent time:6.44s\n",
      "Epoch [451/100], Step [500/511], Loss: 1.0043, Accuracy: 75.00%, Best_acc: 96.88%            \n",
      " Epoch 451, spent time:6.44s\n",
      "Epoch [452/100], Step [500/511], Loss: 0.5619, Accuracy: 82.81%, Best_acc: 96.88%            \n",
      " Epoch 452, spent time:6.41s\n",
      "Epoch [453/100], Step [500/511], Loss: 0.6355, Accuracy: 85.94%, Best_acc: 96.88%            \n",
      " Epoch 453, spent time:6.44s\n",
      "Epoch [454/100], Step [500/511], Loss: 0.7640, Accuracy: 81.25%, Best_acc: 96.88%            \n",
      " Epoch 454, spent time:6.46s\n",
      "Epoch [455/100], Step [500/511], Loss: 0.6471, Accuracy: 85.94%, Best_acc: 96.88%            \n",
      " Epoch 455, spent time:6.48s\n",
      "Epoch [456/100], Step [500/511], Loss: 0.5943, Accuracy: 90.62%, Best_acc: 96.88%            \n",
      " Epoch 456, spent time:6.47s\n",
      "Epoch [457/100], Step [500/511], Loss: 0.5960, Accuracy: 92.19%, Best_acc: 96.88%            \n",
      " Epoch 457, spent time:6.41s\n",
      "Epoch [458/100], Step [500/511], Loss: 0.5427, Accuracy: 90.62%, Best_acc: 96.88%            \n",
      " Epoch 458, spent time:6.48s\n",
      "Epoch [459/100], Step [500/511], Loss: 0.7863, Accuracy: 85.94%, Best_acc: 96.88%            \n",
      " Epoch 459, spent time:6.44s\n",
      "Epoch [460/100], Step [500/511], Loss: 0.7694, Accuracy: 84.38%, Best_acc: 96.88%            \n",
      " Epoch 460, spent time:6.41s\n",
      "Epoch [461/100], Step [500/511], Loss: 0.7188, Accuracy: 82.81%, Best_acc: 96.88%            \n",
      " Epoch 461, spent time:7.79s\n",
      "Epoch [462/100], Step [500/511], Loss: 0.7628, Accuracy: 81.25%, Best_acc: 96.88%            \n",
      " Epoch 462, spent time:6.50s\n",
      "Epoch [463/100], Step [500/511], Loss: 0.6797, Accuracy: 89.06%, Best_acc: 96.88%            \n",
      " Epoch 463, spent time:6.54s\n",
      "Epoch [464/100], Step [500/511], Loss: 0.6894, Accuracy: 85.94%, Best_acc: 96.88%            \n",
      " Epoch 464, spent time:6.42s\n",
      "Epoch [465/100], Step [500/511], Loss: 0.7388, Accuracy: 81.25%, Best_acc: 96.88%            \n",
      " Epoch 465, spent time:6.49s\n",
      "Epoch [466/100], Step [500/511], Loss: 0.7067, Accuracy: 85.94%, Best_acc: 96.88%            \n",
      " Epoch 466, spent time:6.42s\n"
     ]
    },
    {
     "name": "stdout",
     "output_type": "stream",
     "text": [
      "Epoch [467/100], Step [500/511], Loss: 0.8885, Accuracy: 85.94%, Best_acc: 96.88%            \n",
      " Epoch 467, spent time:6.52s\n",
      "Epoch [468/100], Step [500/511], Loss: 0.7439, Accuracy: 81.25%, Best_acc: 96.88%            \n",
      " Epoch 468, spent time:6.49s\n",
      "Epoch [469/100], Step [500/511], Loss: 0.7394, Accuracy: 82.81%, Best_acc: 96.88%            \n",
      " Epoch 469, spent time:6.41s\n",
      "Epoch [470/100], Step [500/511], Loss: 0.7116, Accuracy: 81.25%, Best_acc: 96.88%            \n",
      " Epoch 470, spent time:6.43s\n",
      "Epoch [471/100], Step [500/511], Loss: 0.9060, Accuracy: 82.81%, Best_acc: 96.88%            \n",
      " Epoch 471, spent time:6.42s\n",
      "Epoch [472/100], Step [500/511], Loss: 0.7595, Accuracy: 87.50%, Best_acc: 96.88%            \n",
      " Epoch 472, spent time:6.45s\n",
      "Epoch [473/100], Step [500/511], Loss: 0.7339, Accuracy: 90.62%, Best_acc: 96.88%            \n",
      " Epoch 473, spent time:6.47s\n",
      "Epoch [474/100], Step [500/511], Loss: 0.5868, Accuracy: 89.06%, Best_acc: 96.88%            \n",
      " Epoch 474, spent time:6.47s\n",
      "Epoch [475/100], Step [500/511], Loss: 0.6964, Accuracy: 82.81%, Best_acc: 96.88%            \n",
      " Epoch 475, spent time:6.42s\n",
      "Epoch [476/100], Step [500/511], Loss: 0.8117, Accuracy: 82.81%, Best_acc: 96.88%            \n",
      " Epoch 476, spent time:6.45s\n",
      "Epoch [477/100], Step [500/511], Loss: 0.7301, Accuracy: 85.94%, Best_acc: 96.88%            \n",
      " Epoch 477, spent time:6.54s\n",
      "Epoch [478/100], Step [500/511], Loss: 0.7322, Accuracy: 79.69%, Best_acc: 96.88%            \n",
      " Epoch 478, spent time:6.42s\n",
      "Epoch [479/100], Step [500/511], Loss: 0.7021, Accuracy: 79.69%, Best_acc: 96.88%            \n",
      " Epoch 479, spent time:6.40s\n",
      "Epoch [480/100], Step [500/511], Loss: 0.5863, Accuracy: 90.62%, Best_acc: 96.88%            \n",
      " Epoch 480, spent time:6.36s\n",
      "Epoch [481/100], Step [500/511], Loss: 0.6923, Accuracy: 82.81%, Best_acc: 96.88%            \n",
      " Epoch 481, spent time:6.41s\n",
      "Epoch [482/100], Step [500/511], Loss: 0.8649, Accuracy: 79.69%, Best_acc: 96.88%            \n",
      " Epoch 482, spent time:6.43s\n",
      "Epoch [483/100], Step [500/511], Loss: 0.7085, Accuracy: 82.81%, Best_acc: 96.88%            \n",
      " Epoch 483, spent time:6.43s\n",
      "Epoch [484/100], Step [500/511], Loss: 0.7688, Accuracy: 82.81%, Best_acc: 96.88%            \n",
      " Epoch 484, spent time:6.45s\n",
      "Epoch [485/100], Step [500/511], Loss: 0.6911, Accuracy: 90.62%, Best_acc: 96.88%            \n",
      " Epoch 485, spent time:6.46s\n",
      "Epoch [486/100], Step [500/511], Loss: 0.7378, Accuracy: 84.38%, Best_acc: 96.88%            \n",
      " Epoch 486, spent time:6.49s\n",
      "Epoch [487/100], Step [500/511], Loss: 0.5893, Accuracy: 85.94%, Best_acc: 96.88%            \n",
      " Epoch 487, spent time:6.42s\n",
      "Epoch [488/100], Step [500/511], Loss: 0.6993, Accuracy: 85.94%, Best_acc: 96.88%            \n",
      " Epoch 488, spent time:6.36s\n",
      "Epoch [489/100], Step [500/511], Loss: 0.7176, Accuracy: 84.38%, Best_acc: 96.88%            \n",
      " Epoch 489, spent time:6.44s\n",
      "Epoch [490/100], Step [500/511], Loss: 0.6799, Accuracy: 82.81%, Best_acc: 96.88%            \n",
      " Epoch 490, spent time:6.42s\n",
      "Epoch [491/100], Step [500/511], Loss: 0.8754, Accuracy: 79.69%, Best_acc: 96.88%            \n",
      " Epoch 491, spent time:6.41s\n",
      "Epoch [492/100], Step [500/511], Loss: 0.6928, Accuracy: 84.38%, Best_acc: 96.88%            \n",
      " Epoch 492, spent time:6.36s\n",
      "Epoch [493/100], Step [500/511], Loss: 0.6963, Accuracy: 89.06%, Best_acc: 96.88%            \n",
      " Epoch 493, spent time:6.53s\n",
      "Epoch [494/100], Step [500/511], Loss: 0.7087, Accuracy: 85.94%, Best_acc: 96.88%            \n",
      " Epoch 494, spent time:6.36s\n",
      "Epoch [495/100], Step [500/511], Loss: 0.7725, Accuracy: 89.06%, Best_acc: 96.88%            \n",
      " Epoch 495, spent time:6.43s\n",
      "Epoch [496/100], Step [500/511], Loss: 0.5632, Accuracy: 90.62%, Best_acc: 96.88%            \n",
      " Epoch 496, spent time:6.42s\n",
      "Epoch [497/100], Step [500/511], Loss: 0.7779, Accuracy: 82.81%, Best_acc: 96.88%            \n",
      " Epoch 497, spent time:6.45s\n",
      "Epoch [498/100], Step [500/511], Loss: 0.5220, Accuracy: 87.50%, Best_acc: 96.88%            \n",
      " Epoch 498, spent time:6.39s\n",
      "Epoch [499/100], Step [500/511], Loss: 0.7806, Accuracy: 87.50%, Best_acc: 96.88%            \n",
      " Epoch 499, spent time:6.46s\n",
      "Epoch [500/100], Step [500/511], Loss: 0.6494, Accuracy: 90.62%, Best_acc: 96.88%            \n",
      " Epoch 500, spent time:6.49s\n"
     ]
    }
   ],
   "source": [
    "classify_model = classify_model.train()\n",
    "best_acc = 0\n",
    "\n",
    "for epoch in range(401, num_epochs+401):\n",
    "    start = time.time()\n",
    "    for i_step in range(1, total_step+1):\n",
    "        \n",
    "        # Ramdomly get samples\n",
    "        indices = data_loader.dataset.get_train_indices()\n",
    "        new_sampler = data.sampler.SubsetRandomSampler(indices=indices)\n",
    "        data_loader.batch_sampler.sampler = new_sampler\n",
    "        \n",
    "        embeds, targets = next(iter(data_loader))\n",
    "        \n",
    "        embeds = embeds.squeeze(1)\n",
    "        targets = targets.type(torch.LongTensor).to(device)\n",
    "        \n",
    "        classify_model.zero_grad()\n",
    "        \n",
    "        outputs = classify_model(embeds)\n",
    "        \n",
    "        loss = criterion(outputs, targets.view(-1))\n",
    "        \n",
    "        loss.backward()\n",
    "        \n",
    "        optimizer.step()\n",
    "        \n",
    "        if i_step%20 == 0:\n",
    "            # calculate the status\n",
    "            predict_result = outputs.argmax(1)\n",
    "            accuracy = torch.sum(predict_result == targets).item() / batch_size * 100\n",
    "            best_acc = accuracy if accuracy > best_acc else best_acc\n",
    "            \n",
    "            stats = 'Epoch [%d/%d], Step [%d/%d], Loss: %.4f, Accuracy: %.2f%%, Best_acc: %.2f%%\\\n",
    "            ' % (epoch, num_epochs, i_step, total_step, loss.item(), accuracy, best_acc)\n",
    "            print('\\r' + stats, end='')\n",
    "            sys.stdout.flush()\n",
    "    print('\\n Epoch {}, spent time:{:.2f}s'.format(epoch, time.time()-start))       \n",
    "    if epoch%50 == 0:\n",
    "        torch.save(classify_model.state_dict(), os.path.join('./models', 'class_single_model_%d.pkl' % epoch))\n",
    "torch.save(classify_model.state_dict(), os.path.join('./models', 'class_single_model_last.pkl'))"
   ]
  },
  {
   "cell_type": "markdown",
   "metadata": {},
   "source": [
    "### How good is the model?"
   ]
  },
  {
   "cell_type": "code",
   "execution_count": 6,
   "metadata": {},
   "outputs": [],
   "source": [
    "# valid_data_loader = get_encoder_loader(transform_vaild, encoder, device, mode='valid', batch_size=batch_size)\n",
    "# valid_data_loader.dataset.save_to(\"./bottle_neck/resnet152_valid_new.h\")\n",
    "valid_data_loader = get_encoder_loader(transform_vaild, encoder, device, mode='valid', batch_size=batch_size, file=\"./bottle_neck/resnet152_valid.h\")"
   ]
  },
  {
   "cell_type": "code",
   "execution_count": 29,
   "metadata": {},
   "outputs": [],
   "source": [
    "classify_model.load_state_dict(torch.load('./models/class_single_model_last.pkl'))"
   ]
  },
  {
   "cell_type": "code",
   "execution_count": 30,
   "metadata": {},
   "outputs": [
    {
     "name": "stdout",
     "output_type": "stream",
     "text": [
      "The final accuracy is 62.42%.\n"
     ]
    }
   ],
   "source": [
    "classify_model = classify_model.eval()\n",
    "predict = []\n",
    "for embed, _ in valid_data_loader.dataset:\n",
    "    p = classify_model(embed).argmax().item()\n",
    "    predict.append(p)\n",
    "    \n",
    "df_refer = valid_data_loader.dataset.refer\n",
    "df_refer[\"predict\"] = predict\n",
    "df_refer['correct'] = df_refer.predict == df_refer.disease_class\n",
    "accuracy = (df_refer.correct == True).sum()/len(df_refer)\n",
    "print('The final accuracy is %.2f%%.' % (accuracy*100))"
   ]
  },
  {
   "cell_type": "code",
   "execution_count": null,
   "metadata": {},
   "outputs": [],
   "source": []
  }
 ],
 "metadata": {
  "kernelspec": {
   "display_name": "Python 3",
   "language": "python",
   "name": "python3"
  },
  "language_info": {
   "codemirror_mode": {
    "name": "ipython",
    "version": 3
   },
   "file_extension": ".py",
   "mimetype": "text/x-python",
   "name": "python",
   "nbconvert_exporter": "python",
   "pygments_lexer": "ipython3",
   "version": "3.5.3"
  }
 },
 "nbformat": 4,
 "nbformat_minor": 2
}
