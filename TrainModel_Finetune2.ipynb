{
 "cells": [
  {
   "cell_type": "markdown",
   "metadata": {},
   "source": [
    "## 略有提升 71.8%\n",
    "使用单层输出网络,图片不随机截取,batch_size=64,256,结果差不多"
   ]
  },
  {
   "cell_type": "code",
   "execution_count": 1,
   "metadata": {},
   "outputs": [],
   "source": [
    "import sys\n",
    "import os\n",
    "import time\n",
    "import numpy as np\n",
    "import pandas as pd\n",
    "import matplotlib.pyplot as plt\n",
    "import matplotlib.image as mping\n",
    "import torch\n",
    "import torch.nn as nn\n",
    "import torchvision.models as models\n",
    "import torch.utils.data as data\n",
    "from torchvision import transforms\n",
    "\n",
    "from data_loader import get_loader\n",
    "from data_loader import get_encoder_loader\n",
    "from model import *\n",
    "\n",
    "%matplotlib inline\n",
    "%config InlineBackend.figure_format = 'retina'"
   ]
  },
  {
   "cell_type": "markdown",
   "metadata": {},
   "source": [
    "### set high parameters"
   ]
  },
  {
   "cell_type": "code",
   "execution_count": 18,
   "metadata": {},
   "outputs": [],
   "source": [
    "batch_size = 256\n",
    "num_epochs = 100\n",
    "extract_size = 2048\n",
    "class_size = 61\n",
    "\n",
    "\n",
    "# 图片格式转化\n",
    "transform_train = transforms.Compose([\n",
    "    transforms.Resize([224,224]),\n",
    "#     transforms.RandomCrop(224),\n",
    "    transforms.RandomHorizontalFlip(),\n",
    "    transforms.ToTensor(),\n",
    "    transforms.Normalize(mean=[0.485, 0.456, 0.406],\n",
    "                         std=[0.229, 0.224, 0.225])\n",
    "])\n",
    "transform_vaild = transforms.Compose([\n",
    "    transforms.Resize([224,224]),\n",
    "    transforms.ToTensor(),\n",
    "    transforms.Normalize(mean=[0.485, 0.456, 0.406],\n",
    "                         std=[0.229, 0.224, 0.225])\n",
    "])"
   ]
  },
  {
   "cell_type": "markdown",
   "metadata": {},
   "source": [
    "### load encoded datas"
   ]
  },
  {
   "cell_type": "code",
   "execution_count": 19,
   "metadata": {},
   "outputs": [],
   "source": [
    "device = torch.device(\"cuda\" if torch.cuda.is_available() else \"cpu\")\n",
    "\n",
    "# exract the images to embedding tensor\n",
    "encoder = Encoder()\n",
    "encoder = encoder.to(device)\n",
    "\n",
    "# data_loader = get_encoder_loader(transform_train, encoder, device, mode='train', batch_size=batch_size)\n",
    "# data_loader.dataset.save_to(\"./bottle_neck/resnet152_train_no_crop.h\")\n",
    "data_loader = get_encoder_loader(transform_train, encoder, device, mode='train', batch_size=batch_size, file='./bottle_neck/resnet152_train_no_crop.h')"
   ]
  },
  {
   "cell_type": "markdown",
   "metadata": {},
   "source": [
    "### init model"
   ]
  },
  {
   "cell_type": "markdown",
   "metadata": {},
   "source": [
    "使用两层网络,结果过拟合,训练准确率很高,验证结果比较差,使用再试"
   ]
  },
  {
   "cell_type": "code",
   "execution_count": 20,
   "metadata": {},
   "outputs": [],
   "source": [
    "# set the total number of training steps per epoch\n",
    "total_step = int(len(data_loader.dataset)/batch_size)\n",
    "\n",
    "classify_model = FinalClassify(extract_size, class_size)\n",
    "classify_model = classify_model.to(device)\n",
    "\n",
    "criterion = nn.CrossEntropyLoss().cuda() if torch.cuda.is_available() else nn.CrossEntropyLoss()\n",
    "\n",
    "# with RMSprop to slow the desent gradient progress\n",
    "optimizer = torch.optim.SGD(classify_model.parameters(), lr=0.001)"
   ]
  },
  {
   "cell_type": "markdown",
   "metadata": {},
   "source": [
    "### Load the best trained model,yet!"
   ]
  },
  {
   "cell_type": "code",
   "execution_count": 21,
   "metadata": {},
   "outputs": [],
   "source": [
    "classify_model.load_state_dict(torch.load('./models/class_single_model_last.pkl'))"
   ]
  },
  {
   "cell_type": "markdown",
   "metadata": {},
   "source": [
    "### time to train model"
   ]
  },
  {
   "cell_type": "code",
   "execution_count": 16,
   "metadata": {},
   "outputs": [],
   "source": [
    "optimizer = torch.optim.SGD(classify_model.parameters(), lr=0.0001)"
   ]
  },
  {
   "cell_type": "code",
   "execution_count": 22,
   "metadata": {
    "scrolled": false
   },
   "outputs": [
    {
     "name": "stdout",
     "output_type": "stream",
     "text": [
      "Epoch [201/100], Step [120/127], Loss: 0.7044, Accuracy: 85.16%, Best_acc: 85.94%            \n",
      " Epoch 201, spent time:5.73s\n",
      "Epoch [202/100], Step [120/127], Loss: 0.6068, Accuracy: 86.72%, Best_acc: 86.72%            \n",
      " Epoch 202, spent time:5.72s\n",
      "Epoch [203/100], Step [120/127], Loss: 0.6563, Accuracy: 82.81%, Best_acc: 87.50%            \n",
      " Epoch 203, spent time:5.68s\n",
      "Epoch [204/100], Step [120/127], Loss: 0.6760, Accuracy: 85.94%, Best_acc: 87.50%            \n",
      " Epoch 204, spent time:5.65s\n",
      "Epoch [205/100], Step [120/127], Loss: 0.6704, Accuracy: 83.98%, Best_acc: 89.45%            \n",
      " Epoch 205, spent time:5.79s\n",
      "Epoch [206/100], Step [120/127], Loss: 0.6204, Accuracy: 87.11%, Best_acc: 89.45%            \n",
      " Epoch 206, spent time:5.77s\n",
      "Epoch [207/100], Step [120/127], Loss: 0.6147, Accuracy: 87.89%, Best_acc: 89.45%            \n",
      " Epoch 207, spent time:5.65s\n",
      "Epoch [208/100], Step [120/127], Loss: 0.6536, Accuracy: 86.72%, Best_acc: 89.45%            \n",
      " Epoch 208, spent time:5.65s\n",
      "Epoch [209/100], Step [120/127], Loss: 0.6464, Accuracy: 85.94%, Best_acc: 89.45%            \n",
      " Epoch 209, spent time:5.68s\n",
      "Epoch [210/100], Step [120/127], Loss: 0.6671, Accuracy: 84.38%, Best_acc: 89.45%            \n",
      " Epoch 210, spent time:5.64s\n",
      "Epoch [211/100], Step [120/127], Loss: 0.6365, Accuracy: 87.89%, Best_acc: 89.45%            \n",
      " Epoch 211, spent time:5.63s\n",
      "Epoch [212/100], Step [120/127], Loss: 0.6716, Accuracy: 85.55%, Best_acc: 89.45%            \n",
      " Epoch 212, spent time:5.69s\n",
      "Epoch [213/100], Step [120/127], Loss: 0.6868, Accuracy: 81.25%, Best_acc: 89.45%            \n",
      " Epoch 213, spent time:5.83s\n",
      "Epoch [214/100], Step [120/127], Loss: 0.6203, Accuracy: 87.50%, Best_acc: 89.45%            \n",
      " Epoch 214, spent time:5.85s\n",
      "Epoch [215/100], Step [120/127], Loss: 0.6354, Accuracy: 85.16%, Best_acc: 89.45%            \n",
      " Epoch 215, spent time:5.69s\n",
      "Epoch [216/100], Step [120/127], Loss: 0.6827, Accuracy: 84.77%, Best_acc: 89.45%            \n",
      " Epoch 216, spent time:5.68s\n",
      "Epoch [217/100], Step [120/127], Loss: 0.6670, Accuracy: 85.94%, Best_acc: 89.45%            \n",
      " Epoch 217, spent time:5.83s\n",
      "Epoch [218/100], Step [120/127], Loss: 0.7130, Accuracy: 85.16%, Best_acc: 89.45%            \n",
      " Epoch 218, spent time:5.71s\n",
      "Epoch [219/100], Step [120/127], Loss: 0.6692, Accuracy: 81.64%, Best_acc: 89.45%            \n",
      " Epoch 219, spent time:5.72s\n",
      "Epoch [220/100], Step [120/127], Loss: 0.6015, Accuracy: 88.28%, Best_acc: 89.45%            \n",
      " Epoch 220, spent time:5.74s\n",
      "Epoch [221/100], Step [120/127], Loss: 0.6875, Accuracy: 85.16%, Best_acc: 89.45%            \n",
      " Epoch 221, spent time:5.80s\n",
      "Epoch [222/100], Step [120/127], Loss: 0.6653, Accuracy: 87.89%, Best_acc: 89.45%            \n",
      " Epoch 222, spent time:5.71s\n",
      "Epoch [223/100], Step [120/127], Loss: 0.7187, Accuracy: 82.81%, Best_acc: 89.45%            \n",
      " Epoch 223, spent time:5.73s\n",
      "Epoch [224/100], Step [120/127], Loss: 0.7019, Accuracy: 81.64%, Best_acc: 89.45%            \n",
      " Epoch 224, spent time:5.71s\n",
      "Epoch [225/100], Step [120/127], Loss: 0.6117, Accuracy: 84.38%, Best_acc: 89.45%            \n",
      " Epoch 225, spent time:5.74s\n",
      "Epoch [226/100], Step [120/127], Loss: 0.6947, Accuracy: 84.77%, Best_acc: 90.23%            \n",
      " Epoch 226, spent time:5.68s\n",
      "Epoch [227/100], Step [120/127], Loss: 0.6612, Accuracy: 87.50%, Best_acc: 90.23%            \n",
      " Epoch 227, spent time:5.69s\n",
      "Epoch [228/100], Step [120/127], Loss: 0.6622, Accuracy: 80.86%, Best_acc: 90.23%            \n",
      " Epoch 228, spent time:5.76s\n",
      "Epoch [229/100], Step [120/127], Loss: 0.6766, Accuracy: 84.38%, Best_acc: 90.23%            \n",
      " Epoch 229, spent time:5.70s\n",
      "Epoch [230/100], Step [120/127], Loss: 0.7555, Accuracy: 80.08%, Best_acc: 90.23%            \n",
      " Epoch 230, spent time:5.68s\n",
      "Epoch [231/100], Step [120/127], Loss: 0.6393, Accuracy: 89.06%, Best_acc: 90.23%            \n",
      " Epoch 231, spent time:5.56s\n",
      "Epoch [232/100], Step [120/127], Loss: 0.6506, Accuracy: 83.20%, Best_acc: 90.23%            \n",
      " Epoch 232, spent time:5.60s\n",
      "Epoch [233/100], Step [120/127], Loss: 0.6801, Accuracy: 81.64%, Best_acc: 90.23%            \n",
      " Epoch 233, spent time:5.65s\n",
      "Epoch [234/100], Step [120/127], Loss: 0.6291, Accuracy: 84.77%, Best_acc: 90.23%            \n",
      " Epoch 234, spent time:5.72s\n",
      "Epoch [235/100], Step [120/127], Loss: 0.6400, Accuracy: 85.55%, Best_acc: 90.23%            \n",
      " Epoch 235, spent time:5.77s\n",
      "Epoch [236/100], Step [120/127], Loss: 0.6943, Accuracy: 85.94%, Best_acc: 90.23%            \n",
      " Epoch 236, spent time:5.77s\n",
      "Epoch [237/100], Step [120/127], Loss: 0.6541, Accuracy: 81.64%, Best_acc: 90.23%            \n",
      " Epoch 237, spent time:5.70s\n",
      "Epoch [238/100], Step [120/127], Loss: 0.6869, Accuracy: 86.72%, Best_acc: 90.23%            \n",
      " Epoch 238, spent time:5.67s\n",
      "Epoch [239/100], Step [120/127], Loss: 0.6869, Accuracy: 83.98%, Best_acc: 90.23%            \n",
      " Epoch 239, spent time:5.80s\n",
      "Epoch [240/100], Step [120/127], Loss: 0.6186, Accuracy: 86.33%, Best_acc: 90.23%            \n",
      " Epoch 240, spent time:5.74s\n",
      "Epoch [241/100], Step [120/127], Loss: 0.6700, Accuracy: 84.77%, Best_acc: 90.23%            \n",
      " Epoch 241, spent time:5.68s\n",
      "Epoch [242/100], Step [120/127], Loss: 0.7193, Accuracy: 83.59%, Best_acc: 90.23%            \n",
      " Epoch 242, spent time:5.70s\n",
      "Epoch [243/100], Step [120/127], Loss: 0.5791, Accuracy: 88.28%, Best_acc: 90.23%            \n",
      " Epoch 243, spent time:5.67s\n",
      "Epoch [244/100], Step [120/127], Loss: 0.6809, Accuracy: 82.03%, Best_acc: 90.23%            \n",
      " Epoch 244, spent time:5.76s\n",
      "Epoch [245/100], Step [120/127], Loss: 0.6324, Accuracy: 85.16%, Best_acc: 90.23%            \n",
      " Epoch 245, spent time:5.77s\n",
      "Epoch [246/100], Step [120/127], Loss: 0.6093, Accuracy: 87.50%, Best_acc: 90.23%            \n",
      " Epoch 246, spent time:5.75s\n",
      "Epoch [247/100], Step [120/127], Loss: 0.6957, Accuracy: 85.55%, Best_acc: 90.23%            \n",
      " Epoch 247, spent time:5.72s\n",
      "Epoch [248/100], Step [120/127], Loss: 0.7137, Accuracy: 83.59%, Best_acc: 90.23%            \n",
      " Epoch 248, spent time:5.83s\n",
      "Epoch [249/100], Step [120/127], Loss: 0.7240, Accuracy: 81.64%, Best_acc: 90.23%            \n",
      " Epoch 249, spent time:5.70s\n",
      "Epoch [250/100], Step [120/127], Loss: 0.6916, Accuracy: 86.72%, Best_acc: 90.23%            \n",
      " Epoch 250, spent time:5.74s\n",
      "Epoch [251/100], Step [120/127], Loss: 0.7154, Accuracy: 85.16%, Best_acc: 90.23%            \n",
      " Epoch 251, spent time:5.77s\n",
      "Epoch [252/100], Step [120/127], Loss: 0.6655, Accuracy: 84.77%, Best_acc: 90.23%            \n",
      " Epoch 252, spent time:5.69s\n",
      "Epoch [253/100], Step [120/127], Loss: 0.6855, Accuracy: 85.55%, Best_acc: 90.23%            \n",
      " Epoch 253, spent time:5.67s\n",
      "Epoch [254/100], Step [120/127], Loss: 0.7328, Accuracy: 77.73%, Best_acc: 90.23%            \n",
      " Epoch 254, spent time:5.73s\n",
      "Epoch [255/100], Step [120/127], Loss: 0.7447, Accuracy: 83.98%, Best_acc: 90.23%            \n",
      " Epoch 255, spent time:5.72s\n",
      "Epoch [256/100], Step [120/127], Loss: 0.6512, Accuracy: 85.16%, Best_acc: 90.23%            \n",
      " Epoch 256, spent time:5.65s\n",
      "Epoch [257/100], Step [120/127], Loss: 0.6084, Accuracy: 84.77%, Best_acc: 90.23%            \n",
      " Epoch 257, spent time:5.74s\n",
      "Epoch [258/100], Step [120/127], Loss: 0.7227, Accuracy: 85.55%, Best_acc: 90.23%            \n",
      " Epoch 258, spent time:5.70s\n",
      "Epoch [259/100], Step [120/127], Loss: 0.6472, Accuracy: 85.94%, Best_acc: 90.23%            \n",
      " Epoch 259, spent time:5.69s\n",
      "Epoch [260/100], Step [120/127], Loss: 0.6193, Accuracy: 85.55%, Best_acc: 90.23%            \n",
      " Epoch 260, spent time:5.84s\n",
      "Epoch [261/100], Step [120/127], Loss: 0.7071, Accuracy: 82.42%, Best_acc: 91.41%            \n",
      " Epoch 261, spent time:5.70s\n",
      "Epoch [262/100], Step [120/127], Loss: 0.6778, Accuracy: 84.77%, Best_acc: 91.41%            \n",
      " Epoch 262, spent time:5.72s\n",
      "Epoch [263/100], Step [120/127], Loss: 0.6797, Accuracy: 83.98%, Best_acc: 91.41%            \n",
      " Epoch 263, spent time:5.66s\n",
      "Epoch [264/100], Step [120/127], Loss: 0.7705, Accuracy: 79.30%, Best_acc: 91.41%            \n",
      " Epoch 264, spent time:5.74s\n",
      "Epoch [265/100], Step [120/127], Loss: 0.6661, Accuracy: 84.38%, Best_acc: 91.41%            \n",
      " Epoch 265, spent time:5.69s\n",
      "Epoch [266/100], Step [120/127], Loss: 0.6984, Accuracy: 83.20%, Best_acc: 91.41%            \n",
      " Epoch 266, spent time:5.84s\n",
      "Epoch [267/100], Step [120/127], Loss: 0.6131, Accuracy: 86.72%, Best_acc: 91.41%            \n",
      " Epoch 267, spent time:5.68s\n",
      "Epoch [268/100], Step [120/127], Loss: 0.6375, Accuracy: 87.50%, Best_acc: 91.41%            \n",
      " Epoch 268, spent time:5.67s\n",
      "Epoch [269/100], Step [120/127], Loss: 0.6831, Accuracy: 82.81%, Best_acc: 91.41%            \n",
      " Epoch 269, spent time:5.79s\n",
      "Epoch [270/100], Step [120/127], Loss: 0.7036, Accuracy: 83.59%, Best_acc: 91.41%            \n",
      " Epoch 270, spent time:5.67s\n",
      "Epoch [271/100], Step [120/127], Loss: 0.6868, Accuracy: 83.59%, Best_acc: 91.41%            \n",
      " Epoch 271, spent time:5.84s\n",
      "Epoch [272/100], Step [120/127], Loss: 0.6866, Accuracy: 82.42%, Best_acc: 91.41%            \n",
      " Epoch 272, spent time:5.79s\n",
      "Epoch [273/100], Step [120/127], Loss: 0.6806, Accuracy: 80.08%, Best_acc: 91.41%            \n",
      " Epoch 273, spent time:5.65s\n",
      "Epoch [274/100], Step [120/127], Loss: 0.6463, Accuracy: 86.33%, Best_acc: 91.41%            \n",
      " Epoch 274, spent time:5.74s\n",
      "Epoch [275/100], Step [120/127], Loss: 0.7145, Accuracy: 82.81%, Best_acc: 91.41%            \n",
      " Epoch 275, spent time:5.78s\n",
      "Epoch [276/100], Step [120/127], Loss: 0.6847, Accuracy: 82.81%, Best_acc: 91.41%            \n",
      " Epoch 276, spent time:5.81s\n",
      "Epoch [277/100], Step [120/127], Loss: 0.6558, Accuracy: 85.55%, Best_acc: 91.41%            \n",
      " Epoch 277, spent time:5.76s\n",
      "Epoch [278/100], Step [120/127], Loss: 0.5882, Accuracy: 85.16%, Best_acc: 91.41%            \n",
      " Epoch 278, spent time:5.70s\n",
      "Epoch [279/100], Step [120/127], Loss: 0.8021, Accuracy: 78.52%, Best_acc: 91.41%            \n",
      " Epoch 279, spent time:5.64s\n",
      "Epoch [280/100], Step [120/127], Loss: 0.6838, Accuracy: 83.59%, Best_acc: 91.41%            \n",
      " Epoch 280, spent time:5.74s\n",
      "Epoch [281/100], Step [120/127], Loss: 0.6577, Accuracy: 83.20%, Best_acc: 91.41%            \n",
      " Epoch 281, spent time:5.78s\n",
      "Epoch [282/100], Step [120/127], Loss: 0.6550, Accuracy: 85.94%, Best_acc: 91.41%            \n",
      " Epoch 282, spent time:5.72s\n",
      "Epoch [283/100], Step [120/127], Loss: 0.7206, Accuracy: 82.81%, Best_acc: 91.41%            \n",
      " Epoch 283, spent time:5.66s\n",
      "Epoch [284/100], Step [120/127], Loss: 0.7235, Accuracy: 82.81%, Best_acc: 91.41%            \n",
      " Epoch 284, spent time:5.74s\n",
      "Epoch [285/100], Step [120/127], Loss: 0.6708, Accuracy: 84.38%, Best_acc: 91.41%            \n",
      " Epoch 285, spent time:5.68s\n",
      "Epoch [286/100], Step [120/127], Loss: 0.6729, Accuracy: 85.16%, Best_acc: 91.41%            \n",
      " Epoch 286, spent time:5.81s\n",
      "Epoch [287/100], Step [120/127], Loss: 0.6362, Accuracy: 82.81%, Best_acc: 91.41%            \n",
      " Epoch 287, spent time:5.79s\n",
      "Epoch [288/100], Step [120/127], Loss: 0.7307, Accuracy: 82.42%, Best_acc: 91.41%            \n",
      " Epoch 288, spent time:5.73s\n",
      "Epoch [289/100], Step [120/127], Loss: 0.6448, Accuracy: 85.94%, Best_acc: 91.41%            \n",
      " Epoch 289, spent time:5.76s\n",
      "Epoch [290/100], Step [120/127], Loss: 0.6448, Accuracy: 86.33%, Best_acc: 91.41%            \n",
      " Epoch 290, spent time:5.69s\n",
      "Epoch [291/100], Step [120/127], Loss: 0.7089, Accuracy: 82.03%, Best_acc: 91.41%            \n",
      " Epoch 291, spent time:5.78s\n",
      "Epoch [292/100], Step [120/127], Loss: 0.7284, Accuracy: 82.03%, Best_acc: 91.41%            \n",
      " Epoch 292, spent time:5.76s\n",
      "Epoch [293/100], Step [120/127], Loss: 0.6227, Accuracy: 86.72%, Best_acc: 91.41%            \n",
      " Epoch 293, spent time:5.75s\n",
      "Epoch [294/100], Step [120/127], Loss: 0.7008, Accuracy: 85.16%, Best_acc: 91.41%            \n",
      " Epoch 294, spent time:5.62s\n",
      "Epoch [295/100], Step [120/127], Loss: 0.7043, Accuracy: 83.20%, Best_acc: 91.41%            \n",
      " Epoch 295, spent time:5.73s\n",
      "Epoch [296/100], Step [120/127], Loss: 0.7280, Accuracy: 87.11%, Best_acc: 91.41%            \n",
      " Epoch 296, spent time:5.68s\n",
      "Epoch [297/100], Step [120/127], Loss: 0.6712, Accuracy: 83.59%, Best_acc: 91.41%            \n",
      " Epoch 297, spent time:5.67s\n",
      "Epoch [298/100], Step [120/127], Loss: 0.6660, Accuracy: 83.98%, Best_acc: 91.41%            \n",
      " Epoch 298, spent time:5.71s\n",
      "Epoch [299/100], Step [120/127], Loss: 0.7042, Accuracy: 85.94%, Best_acc: 91.41%            \n",
      " Epoch 299, spent time:5.66s\n",
      "Epoch [300/100], Step [120/127], Loss: 0.6711, Accuracy: 85.16%, Best_acc: 91.41%            \n",
      " Epoch 300, spent time:5.70s\n"
     ]
    }
   ],
   "source": [
    "classify_model = classify_model.train()\n",
    "best_acc = 0\n",
    "\n",
    "for epoch in range(201, num_epochs+201):\n",
    "    start = time.time()\n",
    "    for i_step in range(1, total_step+1):\n",
    "        \n",
    "        # Ramdomly get samples\n",
    "        indices = data_loader.dataset.get_train_indices()\n",
    "        new_sampler = data.sampler.SubsetRandomSampler(indices=indices)\n",
    "        data_loader.batch_sampler.sampler = new_sampler\n",
    "        \n",
    "        embeds, targets = next(iter(data_loader))\n",
    "        \n",
    "        embeds = embeds.squeeze(1)\n",
    "        targets = targets.type(torch.LongTensor).to(device)\n",
    "        \n",
    "        classify_model.zero_grad()\n",
    "        \n",
    "        outputs = classify_model(embeds)\n",
    "        \n",
    "        loss = criterion(outputs, targets.view(-1))\n",
    "        \n",
    "        loss.backward()\n",
    "        \n",
    "        optimizer.step()\n",
    "        \n",
    "        if i_step%20 == 0:\n",
    "            # calculate the status\n",
    "            predict_result = outputs.argmax(1)\n",
    "            accuracy = torch.sum(predict_result == targets).item() / batch_size * 100\n",
    "            best_acc = accuracy if accuracy > best_acc else best_acc\n",
    "            \n",
    "            stats = 'Epoch [%d/%d], Step [%d/%d], Loss: %.4f, Accuracy: %.2f%%, Best_acc: %.2f%%\\\n",
    "            ' % (epoch, num_epochs, i_step, total_step, loss.item(), accuracy, best_acc)\n",
    "            print('\\r' + stats, end='')\n",
    "            sys.stdout.flush()\n",
    "    print('\\n Epoch {}, spent time:{:.2f}s'.format(epoch, time.time()-start))       \n",
    "    if epoch%50 == 0:\n",
    "        torch.save(classify_model.state_dict(), os.path.join('./models', 'class_single_model_%d.pkl' % epoch))\n",
    "torch.save(classify_model.state_dict(), os.path.join('./models', 'class_single_model_last.pkl'))"
   ]
  },
  {
   "cell_type": "markdown",
   "metadata": {},
   "source": [
    "### How good is the model?"
   ]
  },
  {
   "cell_type": "code",
   "execution_count": 6,
   "metadata": {},
   "outputs": [],
   "source": [
    "# valid_data_loader = get_encoder_loader(transform_vaild, encoder, device, mode='valid', batch_size=batch_size)\n",
    "# valid_data_loader.dataset.save_to(\"./bottle_neck/resnet152_valid_new.h\")\n",
    "valid_data_loader = get_encoder_loader(transform_vaild, encoder, device, mode='valid', batch_size=batch_size, file=\"./bottle_neck/resnet152_valid.h\")"
   ]
  },
  {
   "cell_type": "code",
   "execution_count": 29,
   "metadata": {},
   "outputs": [],
   "source": [
    "classify_model.load_state_dict(torch.load('./models/class_single_model_last.pkl'))"
   ]
  },
  {
   "cell_type": "code",
   "execution_count": 23,
   "metadata": {},
   "outputs": [
    {
     "name": "stdout",
     "output_type": "stream",
     "text": [
      "The final accuracy is 71.92%.\n"
     ]
    }
   ],
   "source": [
    "classify_model = classify_model.eval()\n",
    "predict = []\n",
    "for embed, _ in valid_data_loader.dataset:\n",
    "    p = classify_model(embed).argmax().item()\n",
    "    predict.append(p)\n",
    "    \n",
    "df_refer = valid_data_loader.dataset.refer\n",
    "df_refer[\"predict\"] = predict\n",
    "df_refer['correct'] = df_refer.predict == df_refer.disease_class\n",
    "accuracy = (df_refer.correct == True).sum()/len(df_refer)\n",
    "print('The final accuracy is %.2f%%.' % (accuracy*100))"
   ]
  },
  {
   "cell_type": "code",
   "execution_count": 13,
   "metadata": {},
   "outputs": [],
   "source": [
    "!mv ./models/class_single_model_last.pkl ./models/class_single_model_good.pkl"
   ]
  },
  {
   "cell_type": "code",
   "execution_count": null,
   "metadata": {},
   "outputs": [],
   "source": []
  }
 ],
 "metadata": {
  "kernelspec": {
   "display_name": "Python 3",
   "language": "python",
   "name": "python3"
  },
  "language_info": {
   "codemirror_mode": {
    "name": "ipython",
    "version": 3
   },
   "file_extension": ".py",
   "mimetype": "text/x-python",
   "name": "python",
   "nbconvert_exporter": "python",
   "pygments_lexer": "ipython3",
   "version": "3.5.3"
  }
 },
 "nbformat": 4,
 "nbformat_minor": 2
}
